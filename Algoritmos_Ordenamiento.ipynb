{
  "nbformat": 4,
  "nbformat_minor": 0,
  "metadata": {
    "colab": {
      "name": "Algoritmos_Ordenamiento.ipynb",
      "provenance": [],
      "collapsed_sections": [
        "JxCgBEWGx_HF",
        "GlC-8i3CzU5r",
        "BKPXp8FKztS5",
        "5sytQENS1YoJ",
        "QtYbPAMh134J",
        "_6FEUS4C2cuk"
      ]
    },
    "kernelspec": {
      "name": "python3",
      "display_name": "Python 3"
    },
    "language_info": {
      "name": "python"
    }
  },
  "cells": [
    {
      "cell_type": "markdown",
      "metadata": {
        "id": "JxCgBEWGx_HF"
      },
      "source": [
        "# **1. Heap Sort**"
      ]
    },
    {
      "cell_type": "code",
      "metadata": {
        "colab": {
          "base_uri": "https://localhost:8080/"
        },
        "id": "hKt1jkS6xR8g",
        "outputId": "278bef23-6a80-46ec-eebc-7095c69f6899"
      },
      "source": [
        "from random import randint\n",
        "\n",
        "def all(n):\n",
        "    array = []\n",
        "    for i in range(n):\n",
        "        array = [randint(1, 1000) for _ in range(n)]\n",
        "    return array\n",
        "\n",
        "def partition(arr, low, high):\n",
        "    i = (low - 1)\n",
        "    pivot = arr[high]\n",
        "\n",
        "    for j in range(low, high):\n",
        "        if arr[j] <= pivot:\n",
        "            i = i + 1\n",
        "            arr[i], arr[j] = arr[j], arr[i]\n",
        "\n",
        "    arr[i + 1], arr[high] = arr[high], arr[i + 1]\n",
        "    return (i + 1)\n",
        "\n",
        "def quickSort(arr, low, high):\n",
        "    if len(arr) == 1:\n",
        "        return arr\n",
        "    if low < high:\n",
        "        pi = partition(arr, low, high)\n",
        "        quickSort(arr, low, pi - 1)\n",
        "        quickSort(arr, pi + 1, high)\n",
        "\n",
        "n = int(input(\"Cantidad de elementos: \"))\n",
        "array = all(n)\n",
        "print(array)\n",
        "\n",
        "quickSort(array, 0, n - 1)\n",
        "\n",
        "print(\"\\nEl arreglo ordenado es:\")\n",
        "print(array)"
      ],
      "execution_count": null,
      "outputs": [
        {
          "output_type": "stream",
          "text": [
            "Cantidad de elementos: 10\n",
            "[271, 728, 612, 144, 202, 272, 907, 747, 836, 754]\n",
            "\n",
            "El arreglo ordenado es:\n",
            "[144, 202, 271, 272, 612, 728, 747, 754, 836, 907]\n"
          ],
          "name": "stdout"
        }
      ]
    },
    {
      "cell_type": "markdown",
      "metadata": {
        "id": "GlC-8i3CzU5r"
      },
      "source": [
        "# **2. Quick Sort**"
      ]
    },
    {
      "cell_type": "code",
      "metadata": {
        "colab": {
          "base_uri": "https://localhost:8080/"
        },
        "id": "YbNDdbqbzhhK",
        "outputId": "4a654508-9e5e-4146-f000-5791d1cbcc4d"
      },
      "source": [
        "from random import randint\n",
        "\n",
        "def all(n):\n",
        "    array = []\n",
        "    for i in range(n):     \n",
        "        array = [randint(1, 1000) for _ in range(n)]\n",
        "    print(array)\n",
        "    return array\n",
        "\n",
        "def partition(arr, low, high):\n",
        "    i = (low-1)\n",
        "    pivot = arr[high]\n",
        "  \n",
        "    for j in range(low, high):\n",
        "        if arr[j] <= pivot:\n",
        "            i = i+1\n",
        "            arr[i], arr[j] = arr[j], arr[i]\n",
        "    arr[i+1], arr[high] = arr[high], arr[i+1]\n",
        "    return (i+1)\n",
        "\n",
        "def quickSort(arr, low, high):\n",
        "    if len(arr) == 1:\n",
        "        return arr\n",
        "    if low < high:\n",
        "        pi = partition(arr, low, high)\n",
        "        quickSort(arr, low, pi-1)\n",
        "        quickSort(arr, pi+1, high)\n",
        "\n",
        "n = int(input(\"Cantidad de elementos: \"))\n",
        "arr = all(n)\n",
        "\n",
        "quickSort(arr, 0, n-1)\n",
        "\n",
        "print('\\n' + \"El arreglo ordenado es:\")\n",
        "print(arr)"
      ],
      "execution_count": null,
      "outputs": [
        {
          "output_type": "stream",
          "text": [
            "Cantidad de elementos: 10\n",
            "[823, 531, 629, 255, 508, 105, 431, 540, 295, 510]\n",
            "\n",
            "El arreglo ordenado es:\n",
            "[105, 255, 295, 431, 508, 510, 531, 540, 629, 823]\n"
          ],
          "name": "stdout"
        }
      ]
    },
    {
      "cell_type": "markdown",
      "metadata": {
        "id": "BKPXp8FKztS5"
      },
      "source": [
        "# **3. Randomized Quick Sort**"
      ]
    },
    {
      "cell_type": "code",
      "metadata": {
        "colab": {
          "base_uri": "https://localhost:8080/"
        },
        "id": "9olI2p-Sz9By",
        "outputId": "95e49a51-171a-44f1-b6b6-ab17956da100"
      },
      "source": [
        "import random\n",
        "\n",
        "def all(n):\n",
        "    array = []\n",
        "    for i in range(n):     \n",
        "        array = [randint(1, 100) for _ in range(n)]\n",
        "    print(array)\n",
        "    return array\n",
        "\n",
        "def quicksort(arr, start , stop):\n",
        "    if(start < stop):\n",
        "        pivotindex = partitionrand(arr,\\\n",
        "                                   start, stop)\n",
        "        quicksort(arr , start , pivotindex-1)\n",
        "        quicksort(arr, pivotindex + 1, stop)\n",
        "\n",
        "def partitionrand(arr , start, stop):\n",
        "    randpivot = random.randrange(start, stop)\n",
        "    arr[start], arr[randpivot] = \\\n",
        "        arr[randpivot], arr[start]\n",
        "    return partition(arr, start, stop)\n",
        " \n",
        "def partition(arr,start,stop):\n",
        "    pivot = start # pivot\n",
        "    i = start + 1\n",
        "\n",
        "    for j in range(start + 1, stop + 1):\n",
        "        if arr[j] <= arr[pivot]:\n",
        "            arr[i] , arr[j] = arr[j] , arr[i]\n",
        "            i = i + 1\n",
        "    arr[pivot] , arr[i - 1] =\\\n",
        "            arr[i - 1] , arr[pivot]\n",
        "    pivot = i - 1\n",
        "    return (pivot)\n",
        "\n",
        "n = int(input(\"Cantidad de elementos: \"))\n",
        "arr = all(n) \n",
        "\n",
        "quicksort(arr, 0, n - 1)\n",
        "\n",
        "print('\\n' + \"El arreglo ordenado es: \")\n",
        "print(arr)"
      ],
      "execution_count": null,
      "outputs": [
        {
          "output_type": "stream",
          "text": [
            "Cantidad de elementos: 20\n",
            "[23, 86, 39, 27, 30, 55, 4, 54, 69, 33, 12, 92, 69, 39, 37, 30, 21, 11, 42, 82]\n",
            "\n",
            "El arreglo ordenado es: \n",
            "[4, 11, 12, 21, 23, 27, 30, 30, 33, 37, 39, 39, 42, 54, 55, 69, 69, 82, 86, 92]\n"
          ],
          "name": "stdout"
        }
      ]
    },
    {
      "cell_type": "markdown",
      "metadata": {
        "id": "5sytQENS1YoJ"
      },
      "source": [
        "# **4. Counting sort**"
      ]
    },
    {
      "cell_type": "code",
      "metadata": {
        "colab": {
          "base_uri": "https://localhost:8080/"
        },
        "id": "IwgcQME41fVI",
        "outputId": "7174b93f-491c-4aa1-deab-1813d82adbbc"
      },
      "source": [
        "from random import randint\n",
        "\n",
        "def countSort(arr): \n",
        "    output = [0 for i in range(len(arr))]\n",
        "    count = [0 for i in range(256)]\n",
        "    ans = [\"\" for i in arr]\n",
        "\n",
        "    for i in arr:\n",
        "        count[ord(i)] += 1\n",
        "        \n",
        "    for i in range(256):\n",
        "        count[i] += count[i-1]\n",
        "\n",
        "    for i in range(len(arr)):\n",
        "        output[count[ord(arr[i])]-1] = arr[i]\n",
        "        count[ord(arr[i])] -= 1\n",
        "\n",
        "    for i in range(len(arr)):\n",
        "        ans[i] = output[i]\n",
        "    return ans\n",
        " \n",
        "def aleatory(n):\n",
        "    array = []\n",
        "    for i in range(n):     \n",
        "        array = [randint(1, 9) for _ in range(n)]   \n",
        "    return array\n",
        "\n",
        "n = int(input(\"Cantidad de elementos: \"))\n",
        "arr = str(aleatory(n))\n",
        "print(arr)\n",
        "\n",
        "ans = (arr.replace(\", \",\"\").replace(\"[\",\"\").replace(\"]\",\"\" ))\n",
        "print('\\n' + \"El arreglo ordenado es:\")\n",
        "print(countSort(ans))\n"
      ],
      "execution_count": null,
      "outputs": [
        {
          "output_type": "stream",
          "text": [
            "Cantidad de elementos: 10\n",
            "[7, 7, 2, 2, 2, 3, 3, 8, 1, 8]\n",
            "\n",
            "El arreglo ordenado es:\n",
            "['1', '2', '2', '2', '3', '3', '7', '7', '8', '8']\n"
          ],
          "name": "stdout"
        }
      ]
    },
    {
      "cell_type": "markdown",
      "metadata": {
        "id": "QtYbPAMh134J"
      },
      "source": [
        "# **5. Radix Sort**"
      ]
    },
    {
      "cell_type": "code",
      "metadata": {
        "colab": {
          "base_uri": "https://localhost:8080/"
        },
        "id": "ODTDqQRY2CZZ",
        "outputId": "247156bf-6e9e-49a3-8336-ca60d2d12e48"
      },
      "source": [
        "from random import randint\n",
        "\n",
        "def countingSort(arr, exp1):\n",
        "    n = len(arr)\n",
        "    output = [0] * (n)\n",
        "    count = [0] * (10)\n",
        " \n",
        "    for i in range(0, n):\n",
        "        index = (arr[i] / exp1)\n",
        "        count[int(index % 10)] += 1\n",
        "\n",
        "    for i in range(1, 10):\n",
        "        count[i] += count[i - 1]\n",
        "    i = n - 1\n",
        "    \n",
        "    while i >= 0:\n",
        "        index = (arr[i] / exp1)\n",
        "        output[count[int(index % 10)] - 1] = arr[i]\n",
        "        count[int(index % 10)] -= 1\n",
        "        i -= 1\n",
        "    i = 0\n",
        "    \n",
        "    for i in range(0, len(arr)):\n",
        "        arr[i] = output[i]\n",
        " \n",
        "def radixSort(arr):\n",
        "    max1 = max(arr)\n",
        "    exp = 1\n",
        "    \n",
        "    while max1 / exp > 0:\n",
        "        countingSort(arr, exp)\n",
        "        exp *= 10\n",
        "\n",
        "def aleatory(n):\n",
        "    array = []\n",
        "    for i in range(n):     \n",
        "        array = [randint(1, 100) for _ in range(n)]   \n",
        "    return array\n",
        "\n",
        "\n",
        "n = int(input(\"Cantidad de elementos: \"))\n",
        "arr = aleatory(n)\n",
        "print(arr)\n",
        "\n",
        "print('\\n' + \"El arreglo ordenado es:\")\n",
        "radixSort(arr)\n",
        "print(arr)\n"
      ],
      "execution_count": null,
      "outputs": [
        {
          "output_type": "stream",
          "text": [
            "Cantidad de elementos: 10\n",
            "[66, 47, 83, 33, 48, 35, 34, 72, 28, 15]\n",
            "\n",
            "El arreglo ordenado es:\n",
            "[15, 28, 33, 34, 35, 47, 48, 66, 72, 83]\n"
          ],
          "name": "stdout"
        }
      ]
    },
    {
      "cell_type": "markdown",
      "metadata": {
        "id": "_6FEUS4C2cuk"
      },
      "source": [
        "# **6. Bucket Sort**"
      ]
    },
    {
      "cell_type": "code",
      "metadata": {
        "colab": {
          "base_uri": "https://localhost:8080/"
        },
        "id": "kb-Ubo8Q2YQZ",
        "outputId": "64c95e9c-133a-4f56-eff4-9e5631bed622"
      },
      "source": [
        "from random import randint, uniform\n",
        "\n",
        "def insertionSort(b):\n",
        "    for i in range(1, len(b)):\n",
        "        up = b[i]\n",
        "        j = i - 1\n",
        "        while j >= 0 and b[j] > up:\n",
        "            b[j + 1] = b[j]\n",
        "            j -= 1\n",
        "        b[j + 1] = up    \n",
        "    return b    \n",
        "             \n",
        "def bucketSort(x):\n",
        "    arr = []\n",
        "    slot_num = 10\n",
        "\n",
        "    for i in range(slot_num):\n",
        "        arr.append([])\n",
        "         \n",
        "    for j in x:\n",
        "        index_b = int(slot_num * j)\n",
        "        arr[index_b].append(j)\n",
        "     \n",
        "    for i in range(slot_num):\n",
        "        arr[i] = insertionSort(arr[i])\n",
        "        \n",
        "    k = 0\n",
        "    for i in range(slot_num):\n",
        "        for j in range(len(arr[i])):\n",
        "            x[k] = arr[i][j]\n",
        "            k += 1\n",
        "    return x\n",
        "\n",
        "def aleatory(n):\n",
        "    array = []\n",
        "    for i in range(n):     \n",
        "        array = [uniform(0,1) for _ in range(n)]   \n",
        "        \n",
        "    return array\n",
        "\n",
        "n = int(input(\"Cantidad de elementos: \"))\n",
        "arr = aleatory(n)\n",
        "arr = [round(x,2) for x in arr] \n",
        "print(arr)\n",
        "\n",
        "print('\\n' + \"El arreglo ordenado es:\")\n",
        "print(bucketSort(arr))\n"
      ],
      "execution_count": null,
      "outputs": [
        {
          "output_type": "stream",
          "text": [
            "Cantidad de elementos: 10\n",
            "[0.55, 0.93, 0.07, 0.56, 0.13, 0.33, 0.52, 0.68, 0.18, 0.2]\n",
            "\n",
            "El arreglo ordenado es:\n",
            "[0.07, 0.13, 0.18, 0.2, 0.33, 0.52, 0.55, 0.56, 0.68, 0.93]\n"
          ],
          "name": "stdout"
        }
      ]
    },
    {
      "cell_type": "markdown",
      "metadata": {
        "id": "Fwt11fXt3MfK"
      },
      "source": [
        "# **Pruebas**"
      ]
    },
    {
      "cell_type": "code",
      "metadata": {
        "id": "OcErrE2y554o"
      },
      "source": [
        ""
      ],
      "execution_count": null,
      "outputs": []
    }
  ]
}