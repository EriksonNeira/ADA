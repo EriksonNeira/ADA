{
 "cells": [
  {
   "cell_type": "code",
   "execution_count": 19,
   "metadata": {
    "scrolled": true
   },
   "outputs": [
    {
     "name": "stdout",
     "output_type": "stream",
     "text": [
      "maximum sum:  43\n"
     ]
    }
   ],
   "source": [
    "def maxCrossingSum(arr, l, m, h):\n",
    "    sm = 0\n",
    "    left_sum = 0\n",
    "\n",
    "    for i in range(m, l-1, -1):\n",
    "        sm = sm + arr[i]\n",
    "        if (sm > left_sum):\n",
    "            left_sum = sm\n",
    "    sm = 0\n",
    "    right_sum = -1000\n",
    "    \n",
    "    for i in range(m + 1, h + 1):\n",
    "        sm = sm + arr[i]\n",
    "        if (sm > right_sum):\n",
    "            right_sum = sm\n",
    "    return max(left_sum + right_sum, left_sum, right_sum)\n",
    "\n",
    "def maxSubArraySum(arr, l, h):\n",
    "    if (l == h):\n",
    "        return arr[l]\n",
    "    \n",
    "    m = (l + h) // 2   \n",
    "    return max(maxSubArraySum(arr, l, m),\n",
    "               maxSubArraySum(arr, m+1, h),\n",
    "               maxCrossingSum(arr, l, m, h))\n",
    "\n",
    "arr = [3, 13, -25, 20, -3, -16, -23, 18, 20, -7, 12, -5, -22, 15, -4, 7]\n",
    "n = len(arr)\n",
    " \n",
    "max_sum = maxSubArraySum(arr, 0, n-1)\n",
    "print(\"maximum sum: \", max_sum)"
   ]
  },
  {
   "cell_type": "code",
   "execution_count": null,
   "metadata": {},
   "outputs": [],
   "source": []
  },
  {
   "cell_type": "code",
   "execution_count": 11,
   "metadata": {},
   "outputs": [],
   "source": [
    "\n",
    "def square_matrix_multiply_recursive(A,B):\n",
    "    n = len(A)\n",
    "    C = [[0 for col in range(n)] for row in range(n)]\n",
    "    if n == 1:\n",
    "        C[0][0] = A[0][0]*B[0][0]\n",
    "    else:\n",
    "        (A11,A12,A21,A22) = partition_matrix(A)\n",
    "        (B11,B12,B21,B22) = partition_matrix(B)\n",
    "        (C11,C12,C21,C22) = partition_matrix(C)\n",
    "        \n",
    "        C11 = add_matrix(square_matrix_multiply_recursive(A11,B11),square_matrix_multiply_recursive(A12,B21))\n",
    "        C12 = add_matrix(square_matrix_multiply_recursive(A11,B12),square_matrix_multiply_recursive(A12,B22))\n",
    "        C21 = add_matrix(square_matrix_multiply_recursive(A21,B11),square_matrix_multiply_recursive(A22,B21))\n",
    "        C22 = add_matrix(square_matrix_multiply_recursive(A21,B12),square_matrix_multiply_recursive(A22,B22))\n",
    "        \n",
    "        C = merge_matrix(C11,C12,C21,C22)\n",
    "    return C\n",
    " \n",
    " \n",
    " \n",
    "def partition_matrix(A):\n",
    "    n = len(A)\n",
    "    n2 =  int(n/2)\n",
    "    A11 = [[0 for col in range(n2)] for row in range(n2)]\n",
    "    A12 = [[0 for col in range(n2)] for row in range(n2)]\n",
    "    A21 = [[0 for col in range(n2)] for row in range(n2)]\n",
    "    A22 = [[0 for col in range(n2)] for row in range(n2)]\n",
    "    for i in range(0,n2):\n",
    "        for j in range(0,n2):\n",
    "            A11[i][j] = A[i][j]\n",
    "            A12[i][j] = A[i][j+n2]\n",
    "            A21[i][j] = A[i+n2][j]\n",
    "            A22[i][j] = A[i+n2][j+n2]\n",
    "    return (A11,A12,A21,A22)\n",
    "    \n",
    "def merge_matrix(A11,A12,A21,A22):\n",
    "    n2 = len(A11)\n",
    "    n = 2*n2\n",
    "    A = [[0 for col in range(n)] for row in range(n)]\n",
    "    for i in range (0,n):\n",
    "        for j in range (0,n):\n",
    "            if i <= (n2-1) and j <= (n2-1):\n",
    "                A[i][j] = A11[i][j]\n",
    "                \n",
    "            elif i <= (n2-1) and j > (n2-1):\n",
    "                     A[i][j] = A12[i][j-n2]\n",
    "            elif i > (n2-1) and j <= (n2-1):\n",
    "                     A[i][j] = A21[i-n2][j]\n",
    "            else:\n",
    "                     A[i][j] = A22[i-n2][j-n2]\n",
    "    return A\n",
    "                     \n",
    " \n",
    "def add_matrix(A,B):\n",
    "    n = len(A)\n",
    "    C = [[0 for col in range(n)] for row in range(n)]\n",
    "    for i in range(0,n):\n",
    "        for j in range(0,n):\n",
    "            C[i][j] = A[i][j]+B[i][j]\n",
    "    return C\n",
    "            "
   ]
  },
  {
   "cell_type": "code",
   "execution_count": 17,
   "metadata": {},
   "outputs": [
    {
     "name": "stdout",
     "output_type": "stream",
     "text": [
      "[[90, 100, 110, 120], [202, 228, 254, 280], [314, 356, 398, 440], [426, 484, 542, 600]]\n"
     ]
    }
   ],
   "source": [
    "a = [\n",
    "    [1,2,3,4],\n",
    "    [5,6,7,8],\n",
    "    [9,10,11,12],\n",
    "    [13,14,15,16]\n",
    "    ]\n",
    "b = [\n",
    "    [1,2,3,4],\n",
    "    [5,6,7,8],\n",
    "    [9,10,11,12],\n",
    "    [13,14,15,16]\n",
    "    ]\n",
    "\n",
    "print (square_matrix_multiply_recursive(a,b))"
   ]
  },
  {
   "cell_type": "code",
   "execution_count": 21,
   "metadata": {},
   "outputs": [
    {
     "name": "stdout",
     "output_type": "stream",
     "text": [
      "[[4, 4, 4, 4], [4, 4, 4, 4], [4, 4, 4, 4], [4, 4, 4, 4]]\n"
     ]
    }
   ],
   "source": [
    "a = [\n",
    "    [1,1,1,1],\n",
    "    [1,1,1,1],\n",
    "    [1,1,1,1],\n",
    "    [1,1,1,1],\n",
    "    ]\n",
    "b = [\n",
    "    [1,1,1,1],\n",
    "    [1,1,1,1],\n",
    "    [1,1,1,1],\n",
    "    [1,1,1,1],\n",
    "    ]\n",
    "\n",
    "print (square_matrix_multiply_recursive(a,b))"
   ]
  },
  {
   "cell_type": "code",
   "execution_count": null,
   "metadata": {},
   "outputs": [],
   "source": []
  },
  {
   "cell_type": "code",
   "execution_count": null,
   "metadata": {},
   "outputs": [],
   "source": []
  }
 ],
 "metadata": {
  "kernelspec": {
   "display_name": "Python 3",
   "language": "python",
   "name": "python3"
  },
  "language_info": {
   "codemirror_mode": {
    "name": "ipython",
    "version": 3
   },
   "file_extension": ".py",
   "mimetype": "text/x-python",
   "name": "python",
   "nbconvert_exporter": "python",
   "pygments_lexer": "ipython3",
   "version": "3.8.5"
  }
 },
 "nbformat": 4,
 "nbformat_minor": 4
}
